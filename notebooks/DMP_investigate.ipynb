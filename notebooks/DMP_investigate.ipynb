{
 "cells": [
  {
   "cell_type": "code",
   "execution_count": 1,
   "id": "fcff7406",
   "metadata": {},
   "outputs": [],
   "source": [
    "import pickle\n",
    "import numpy as np\n",
    "import matplotlib.pyplot as plt"
   ]
  },
  {
   "cell_type": "code",
   "execution_count": null,
   "id": "22cd5817",
   "metadata": {},
   "outputs": [],
   "source": []
  },
  {
   "cell_type": "code",
   "execution_count": 2,
   "id": "235d88d2",
   "metadata": {},
   "outputs": [],
   "source": [
    "pose_dmp_file = open(\"IROS2020_dmp_data_goal_position_weights.pkl\",\"rb\")\n",
    "pose_dmp_info = pickle.load(pose_dmp_file)"
   ]
  },
  {
   "cell_type": "code",
   "execution_count": 3,
   "id": "5f805b43",
   "metadata": {
    "scrolled": false
   },
   "outputs": [
    {
     "data": {
      "text/plain": [
       "dict_keys(['tau', 'alpha', 'beta', 'num_dims', 'num_basis', 'num_sensors', 'mu', 'h', 'phi_j', 'weights'])"
      ]
     },
     "execution_count": 3,
     "metadata": {},
     "output_type": "execute_result"
    }
   ],
   "source": [
    "pose_dmp_info.keys()"
   ]
  },
  {
   "cell_type": "code",
   "execution_count": 4,
   "id": "62e24817",
   "metadata": {},
   "outputs": [
    {
     "name": "stdout",
     "output_type": "stream",
     "text": [
      "tau: 0.125\n",
      "alpha: 15.0\n",
      "beta: 3.75\n",
      "num_dims: 3\n",
      "num_basis: 31\n",
      "num_sensors: 4\n",
      "mu: (31,)\n",
      "h: (31,)\n",
      "phi_j: (4,)\n",
      "weights: (3, 4, 31)\n"
     ]
    }
   ],
   "source": [
    "for key, val in pose_dmp_info.items():\n",
    "    print(f\"{key}: {np.array(val).shape if type(val) is list else val}\")"
   ]
  },
  {
   "cell_type": "code",
   "execution_count": 5,
   "id": "d6c1e6de",
   "metadata": {},
   "outputs": [
    {
     "data": {
      "text/plain": [
       "[0.0,\n",
       " 2632.6293112921276,\n",
       " 2724.9929570386485,\n",
       " 2820.597105737547,\n",
       " 2919.5554477838764,\n",
       " 3021.9856623073715,\n",
       " 3128.009557113736,\n",
       " 3237.753213535769,\n",
       " 3351.347136366866,\n",
       " 3468.9264090541906,\n",
       " 3590.630854337308,\n",
       " 3716.6052005219144,\n",
       " 3846.999253588366,\n",
       " 3981.9680753368452,\n",
       " 4121.67216778427,\n",
       " 4266.277664029316,\n",
       " 4415.9565258146295,\n",
       " 4570.886748019868,\n",
       " 4731.252570329355,\n",
       " 4897.244696326509,\n",
       " 5069.0605202729785,\n",
       " 5246.904361847726,\n",
       " 5430.987709117798,\n",
       " 5621.529470036027,\n",
       " 5818.756232762224,\n",
       " 6022.902535116017,\n",
       " 6234.211143484577,\n",
       " 6452.9333415152605,\n",
       " 6679.329228936842,\n",
       " 6913.668030863863,\n",
       " 6913.668030863863]"
      ]
     },
     "execution_count": 5,
     "metadata": {},
     "output_type": "execute_result"
    }
   ],
   "source": [
    "pose_dmp_info[\"h\"]"
   ]
  },
  {
   "cell_type": "code",
   "execution_count": null,
   "id": "afc31e17",
   "metadata": {},
   "outputs": [],
   "source": []
  },
  {
   "cell_type": "code",
   "execution_count": null,
   "id": "49af0dff",
   "metadata": {},
   "outputs": [],
   "source": []
  },
  {
   "cell_type": "code",
   "execution_count": null,
   "id": "158f1ddc",
   "metadata": {},
   "outputs": [],
   "source": []
  },
  {
   "cell_type": "code",
   "execution_count": null,
   "id": "620014c9",
   "metadata": {},
   "outputs": [],
   "source": []
  }
 ],
 "metadata": {
  "kernelspec": {
   "display_name": "Python 3.9.6 ('ids')",
   "language": "python",
   "name": "python3"
  },
  "language_info": {
   "codemirror_mode": {
    "name": "ipython",
    "version": 3
   },
   "file_extension": ".py",
   "mimetype": "text/x-python",
   "name": "python",
   "nbconvert_exporter": "python",
   "pygments_lexer": "ipython3",
   "version": "3.9.6"
  },
  "vscode": {
   "interpreter": {
    "hash": "c51a3d161ac6e84e9b0216a28e0c1d86e23c860338db71e34d1ecfd2c4944791"
   }
  }
 },
 "nbformat": 4,
 "nbformat_minor": 5
}
